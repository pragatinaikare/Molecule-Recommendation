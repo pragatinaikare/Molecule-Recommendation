{
 "cells": [
  {
   "cell_type": "code",
   "execution_count": 1,
   "id": "459e0f88-d655-4b86-8701-718c4a077b36",
   "metadata": {},
   "outputs": [
    {
     "name": "stderr",
     "output_type": "stream",
     "text": [
      "<frozen importlib._bootstrap>:219: RuntimeWarning: to-Python converter for boost::shared_ptr<RDKit::FilterCatalogEntry const> already registered; second conversion method ignored.\n"
     ]
    }
   ],
   "source": [
    "import torch, os\n",
    "from pytorch_lightning import LightningDataModule\n",
    "from torch.utils.data import DataLoader\n",
    "\n",
    "from dig.ggraph.dataset import ZINC250k, ZINC800\n",
    "from dig.ggraph.method import JTVAE\n",
    "from dig.ggraph.method.JTVAE.fast_jtnn import MolTreeFolder\n",
    "from dig.ggraph.evaluation import RandGenEvaluator\n",
    "from tqdm import tqdm\n",
    "\n",
    "from rdkit import RDLogger, Chem\n",
    "RDLogger.DisableLog('rdApp.*')"
   ]
  },
  {
   "cell_type": "code",
   "execution_count": 2,
   "id": "4eb3faee",
   "metadata": {},
   "outputs": [
    {
     "name": "stdout",
     "output_type": "stream",
     "text": [
      "Loading ZINC250k...\n"
     ]
    }
   ],
   "source": [
    "print('Loading ZINC250k...')\n",
    "data_dir = \"/mnt/data/shared/jacob/CHEMIR/GNN/data\"\n",
    "limit = 100\n",
    "\n",
    "dataset = ZINC250k(one_shot=False, root=data_dir)\n",
    "smiles = torch.load(os.path.join(dataset.processed_dir, \"data.pt\"))[-1]\n",
    "vocab = list(torch.load(os.path.join(dataset.processed_dir, \"vocab.pt\")))\n",
    "trees = torch.load(os.path.join(dataset.processed_dir, \"trees.pt\"))\n",
    "if limit > 0 or limit is not None:\n",
    "    dataset.slices = {k:v[:limit] for k,v in dataset.slices.items()}\n",
    "    smiles = smiles[:limit]\n",
    "    trees = trees[:limit]\n"
   ]
  },
  {
   "cell_type": "code",
   "execution_count": 3,
   "id": "bfd4769a-5512-4ee6-acf2-156e739a12f9",
   "metadata": {},
   "outputs": [
    {
     "name": "stderr",
     "output_type": "stream",
     "text": [
      "/data/jacob/anaconda3/envs/ir/lib/python3.8/site-packages/torch/nn/_reduction.py:42: UserWarning: size_average and reduce args will be deprecated, please use reduction='sum' instead.\n",
      "  warnings.warn(warning.format(ret))\n"
     ]
    }
   ],
   "source": [
    "# Define model\n",
    "jtvae = JTVAE(smiles)\n",
    "config = {\"hidden_size\": 420, \"latent_size\": 56, \"depthT\": 20, \"depthG\": 3}\n",
    "jtvae.get_model('rand_gen', config)"
   ]
  },
  {
   "cell_type": "code",
   "execution_count": 4,
   "id": "e71f928a",
   "metadata": {},
   "outputs": [
    {
     "data": {
      "text/plain": [
       "set()"
      ]
     },
     "execution_count": 4,
     "metadata": {},
     "output_type": "execute_result"
    }
   ],
   "source": [
    "set(jtvae.vocab) - set(vocab)"
   ]
  },
  {
   "cell_type": "code",
   "execution_count": 5,
   "id": "96b39234-7395-4462-ac48-eef302ba0d8d",
   "metadata": {},
   "outputs": [
    {
     "name": "stderr",
     "output_type": "stream",
     "text": [
      "100%|██████████| 100/100 [01:07<00:00,  1.49it/s]\n"
     ]
    }
   ],
   "source": [
    "preprocessed = jtvae.preprocess(smiles)"
   ]
  },
  {
   "cell_type": "code",
   "execution_count": 6,
   "id": "4bb25fea",
   "metadata": {},
   "outputs": [
    {
     "data": {
      "text/plain": [
       "False"
      ]
     },
     "execution_count": 6,
     "metadata": {},
     "output_type": "execute_result"
    }
   ],
   "source": [
    "preprocessed == trees"
   ]
  },
  {
   "cell_type": "code",
   "execution_count": 7,
   "id": "298dfae9",
   "metadata": {},
   "outputs": [
    {
     "data": {
      "text/plain": [
       "True"
      ]
     },
     "execution_count": 7,
     "metadata": {},
     "output_type": "execute_result"
    }
   ],
   "source": [
    "all([tree0.smiles == tree.smiles for (tree0, tree) in zip(trees, preprocessed) ])"
   ]
  },
  {
   "cell_type": "code",
   "execution_count": 8,
   "id": "bc60423a",
   "metadata": {},
   "outputs": [
    {
     "data": {
      "text/plain": [
       "True"
      ]
     },
     "execution_count": 8,
     "metadata": {},
     "output_type": "execute_result"
    }
   ],
   "source": [
    "all([all([node0.smiles == node.smiles for node0, node in zip(tree0.nodes, tree.nodes)]) for tree0, tree in zip(trees, preprocessed)])"
   ]
  },
  {
   "cell_type": "code",
   "execution_count": 9,
   "id": "6264b23f-e16b-41c7-85eb-96fd0cda9b96",
   "metadata": {},
   "outputs": [
    {
     "name": "stdout",
     "output_type": "stream",
     "text": [
      "Model #Params: 4142K\n"
     ]
    },
    {
     "name": "stderr",
     "output_type": "stream",
     "text": [
      "/data/jacob/anaconda3/envs/ir/lib/python3.8/site-packages/torch/optim/lr_scheduler.py:143: UserWarning: Detected call of `lr_scheduler.step()` before `optimizer.step()`. In PyTorch 1.1.0 and later, you should call them in the opposite order: `optimizer.step()` before `lr_scheduler.step()`.  Failure to do this will result in PyTorch skipping the first value of the learning rate schedule. See more details at https://pytorch.org/docs/stable/optim.html#how-to-adjust-learning-rate\n",
      "  warnings.warn(\"Detected call of `lr_scheduler.step()` before `optimizer.step()`. \"\n"
     ]
    }
   ],
   "source": [
    "loader = MolTreeFolder(preprocessed, jtvae.vocab, 32, num_workers=4)\n",
    "load_epoch = 0\n",
    "lr = 1e-3\n",
    "anneal_rate = 0.9\n",
    "clip_norm = 50.0\n",
    "num_epochs = 1\n",
    "total_step = 0  # TODO args.load_epoch\n",
    "beta = 0.0  # TODO args.beta\n",
    "max_beta = 1.0\n",
    "save_iter = 5000\n",
    "step_beta = 0.002\n",
    "anneal_iter = 40000\n",
    "print_iter = 50\n",
    "kl_anneal_iter = 2000\n",
    "jtvae.train_rand_gen(loader, load_epoch, lr, anneal_rate, clip_norm, num_epochs, beta, max_beta, step_beta, anneal_iter, kl_anneal_iter, print_iter, save_iter)"
   ]
  },
  {
   "cell_type": "code",
   "execution_count": 16,
   "id": "270f5911",
   "metadata": {},
   "outputs": [],
   "source": [
    "loader = MolTreeFolder(preprocessed, jtvae.vocab, 32, num_workers=4)\n",
    "batch = next(iter(loader))"
   ]
  },
  {
   "cell_type": "code",
   "execution_count": 17,
   "id": "4f27e165",
   "metadata": {},
   "outputs": [
    {
     "data": {
      "text/plain": [
       "4"
      ]
     },
     "execution_count": 17,
     "metadata": {},
     "output_type": "execute_result"
    }
   ],
   "source": [
    "len(batch)"
   ]
  },
  {
   "cell_type": "code",
   "execution_count": 11,
   "id": "d1f4d622-6cc7-473a-85dc-2a86185278a3",
   "metadata": {},
   "outputs": [],
   "source": [
    "samples = list(map(Chem.MolFromSmiles, jtvae.run_rand_gen(1)))"
   ]
  },
  {
   "cell_type": "code",
   "execution_count": 12,
   "id": "710f8ff8-9772-4a04-a649-163db82a3903",
   "metadata": {},
   "outputs": [
    {
     "name": "stdout",
     "output_type": "stream",
     "text": [
      "Valid Ratio: 1/1 = 100.00%\n",
      "Unique Ratio: 1/1 = 100.00%\n",
      "Novel Ratio: 1/1 = 100.00%\n",
      "{'valid_ratio': 100.0, 'unique_ratio': 100.0, 'novel_ratio': 100.0}\n"
     ]
    }
   ],
   "source": [
    "res_dict = {'mols': samples, 'train_smiles': smiles}\n",
    "evaluator = RandGenEvaluator()\n",
    "results = evaluator.eval(res_dict)\n",
    "print(results)"
   ]
  },
  {
   "cell_type": "code",
   "execution_count": null,
   "id": "f22a61e4-e5aa-444c-b2b8-d5f066f7a047",
   "metadata": {},
   "outputs": [],
   "source": []
  }
 ],
 "metadata": {
  "kernelspec": {
   "display_name": "Python 3",
   "language": "python",
   "name": "python3"
  },
  "language_info": {
   "codemirror_mode": {
    "name": "ipython",
    "version": 3
   },
   "file_extension": ".py",
   "mimetype": "text/x-python",
   "name": "python",
   "nbconvert_exporter": "python",
   "pygments_lexer": "ipython3",
   "version": "3.8.19"
  },
  "vscode": {
   "interpreter": {
    "hash": "31f2aee4e71d21fbe5cf8b01ff0e069b9275f58929596ceb00d14d90e3e16cd6"
   }
  }
 },
 "nbformat": 4,
 "nbformat_minor": 5
}
