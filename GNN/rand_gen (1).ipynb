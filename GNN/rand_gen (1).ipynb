{
 "cells": [
  {
   "cell_type": "code",
   "execution_count": 1,
   "id": "a0feb913-2dfa-478a-bfcf-dc432115645d",
   "metadata": {},
   "outputs": [],
   "source": [
    "import sys"
   ]
  },
  {
   "cell_type": "code",
   "execution_count": 2,
   "id": "459e0f88-d655-4b86-8701-718c4a077b36",
   "metadata": {},
   "outputs": [
    {
     "name": "stderr",
     "output_type": "stream",
     "text": [
      "<frozen importlib._bootstrap>:219: RuntimeWarning: to-Python converter for boost::shared_ptr<RDKit::FilterCatalogEntry const> already registered; second conversion method ignored.\n"
     ]
    }
   ],
   "source": [
    "%load_ext autoreload\n",
    "%autoreload 2\n",
    "\n",
    "import torch\n",
    "from dig.ggraph.method.JTVAE.jtvae import JTVAE\n",
    "from dig.ggraph.method.JTVAE import fast_jtnn\n",
    "from dig.ggraph.method.JTVAE.fast_jtnn.datautils import MolTreeFolder, PairTreeFolder, MolTreeDataset\n",
    "\n",
    "path_adj = \"./\""
   ]
  },
  {
   "cell_type": "code",
   "execution_count": 3,
   "id": "9e2ee3e3-bd0d-4926-a8ac-781c4ccc6126",
   "metadata": {},
   "outputs": [],
   "source": [
    "from rdkit import Chem\n",
    "from rdkit import RDLogger\n",
    "RDLogger.DisableLog('rdApp.*')"
   ]
  },
  {
   "cell_type": "code",
   "execution_count": 4,
   "id": "32832458-342a-4287-ba85-5404f9a4f86e",
   "metadata": {},
   "outputs": [],
   "source": [
    "from dig.ggraph.dataset import ZINC250k, ZINC800\n",
    "from dig.ggraph.evaluation import RandGenEvaluator"
   ]
  },
  {
   "cell_type": "code",
   "execution_count": 5,
   "id": "5c333cf4-62a0-4557-aea2-1e4a1f536f24",
   "metadata": {},
   "outputs": [],
   "source": [
    "dataset = ZINC800(one_shot=False, root=path_adj+'./datasets')"
   ]
  },
  {
   "cell_type": "code",
   "execution_count": 6,
   "id": "928a1262-ccb7-481b-9dd7-6b5ed42c1d9a",
   "metadata": {},
   "outputs": [],
   "source": [
    "zinc_800_jt = torch.load(path_adj+\"datasets/zinc_800_jt/processed/data.pt\")"
   ]
  },
  {
   "cell_type": "code",
   "execution_count": 7,
   "id": "17c24f94-45e2-4aa9-abdb-52d0b68d011e",
   "metadata": {},
   "outputs": [],
   "source": [
    "smiles = zinc_800_jt[-1]"
   ]
  },
  {
   "cell_type": "code",
   "execution_count": 8,
   "id": "c7c8b8b7",
   "metadata": {},
   "outputs": [],
   "source": [
    "import rdkit"
   ]
  },
  {
   "cell_type": "code",
   "execution_count": 9,
   "id": "3dd7bae2",
   "metadata": {},
   "outputs": [
    {
     "data": {
      "text/plain": [
       "'2020.09.5'"
      ]
     },
     "execution_count": 9,
     "metadata": {},
     "output_type": "execute_result"
    }
   ],
   "source": [
    "rdkit.__version__"
   ]
  },
  {
   "cell_type": "code",
   "execution_count": 10,
   "id": "221f857e",
   "metadata": {},
   "outputs": [
    {
     "data": {
      "text/plain": [
       "<dig.ggraph.method.JTVAE.jtvae.JTVAE at 0x7fc4fbcf3f40>"
      ]
     },
     "execution_count": 10,
     "metadata": {},
     "output_type": "execute_result"
    }
   ],
   "source": [
    "JTVAE(smiles)"
   ]
  },
  {
   "cell_type": "code",
   "execution_count": null,
   "id": "4551cee7",
   "metadata": {},
   "outputs": [],
   "source": []
  },
  {
   "cell_type": "code",
   "execution_count": 5,
   "id": "ccc8170d",
   "metadata": {},
   "outputs": [
    {
     "ename": "NameError",
     "evalue": "name 'smiles' is not defined",
     "output_type": "error",
     "traceback": [
      "\u001b[0;31m---------------------------------------------------------------------------\u001b[0m",
      "\u001b[0;31mNameError\u001b[0m                                 Traceback (most recent call last)",
      "Cell \u001b[0;32mIn[5], line 2\u001b[0m\n\u001b[1;32m      1\u001b[0m cset \u001b[38;5;241m=\u001b[39m \u001b[38;5;28mset\u001b[39m()\n\u001b[0;32m----> 2\u001b[0m \u001b[38;5;28;01mfor\u001b[39;00m smile \u001b[38;5;129;01min\u001b[39;00m \u001b[43msmiles\u001b[49m:\n\u001b[1;32m      3\u001b[0m     mol \u001b[38;5;241m=\u001b[39m fast_jtnn\u001b[38;5;241m.\u001b[39mMolTree(smile)\n\u001b[1;32m      4\u001b[0m     \u001b[38;5;28;01mfor\u001b[39;00m c \u001b[38;5;129;01min\u001b[39;00m mol\u001b[38;5;241m.\u001b[39mnodes:         \n",
      "\u001b[0;31mNameError\u001b[0m: name 'smiles' is not defined"
     ]
    }
   ],
   "source": [
    "cset = set()\n",
    "for smile in smiles:\n",
    "    mol = fast_jtnn.MolTree(smile)\n",
    "    for c in mol.nodes:         \n",
    "        cset.add(c.smiles)"
   ]
  },
  {
   "cell_type": "code",
   "execution_count": 16,
   "id": "c3188c1b",
   "metadata": {},
   "outputs": [
    {
     "name": "stdout",
     "output_type": "stream",
     "text": [
      "OCc1cn2c(n1)OC(Cl)=CC2\n"
     ]
    },
    {
     "ename": "KekulizeException",
     "evalue": "Can't kekulize mol.  Unkekulized atoms: 5",
     "output_type": "error",
     "traceback": [
      "\u001b[0;31m---------------------------------------------------------------------------\u001b[0m",
      "\u001b[0;31mKekulizeException\u001b[0m                         Traceback (most recent call last)",
      "Cell \u001b[0;32mIn[16], line 4\u001b[0m\n\u001b[1;32m      3\u001b[0m \u001b[38;5;28;01mtry\u001b[39;00m:\n\u001b[0;32m----> 4\u001b[0m     mol \u001b[38;5;241m=\u001b[39m \u001b[43mfast_jtnn\u001b[49m\u001b[38;5;241;43m.\u001b[39;49m\u001b[43mMolTree\u001b[49m\u001b[43m(\u001b[49m\u001b[43msmile\u001b[49m\u001b[43m)\u001b[49m\n\u001b[1;32m      5\u001b[0m \u001b[38;5;28;01mexcept\u001b[39;00m:\n",
      "File \u001b[0;32m/data/jacob/anaconda3/envs/ir/lib/python3.8/site-packages/dig/ggraph/method/JTVAE/fast_jtnn/mol_tree.py:89\u001b[0m, in \u001b[0;36mMolTree.__init__\u001b[0;34m(self, smiles, bayesian_optimization)\u001b[0m\n\u001b[1;32m     88\u001b[0m \u001b[38;5;28;01mfor\u001b[39;00m i, c \u001b[38;5;129;01min\u001b[39;00m \u001b[38;5;28menumerate\u001b[39m(cliques):\n\u001b[0;32m---> 89\u001b[0m     cmol \u001b[38;5;241m=\u001b[39m \u001b[43mget_clique_mol\u001b[49m\u001b[43m(\u001b[49m\u001b[38;5;28;43mself\u001b[39;49m\u001b[38;5;241;43m.\u001b[39;49m\u001b[43mmol\u001b[49m\u001b[43m,\u001b[49m\u001b[43m \u001b[49m\u001b[43mc\u001b[49m\u001b[43m)\u001b[49m\n\u001b[1;32m     90\u001b[0m     node \u001b[38;5;241m=\u001b[39m MolTreeNode(get_smiles(cmol), c)\n",
      "File \u001b[0;32m/data/jacob/anaconda3/envs/ir/lib/python3.8/site-packages/dig/ggraph/method/JTVAE/fast_jtnn/chemutils.py:81\u001b[0m, in \u001b[0;36mget_clique_mol\u001b[0;34m(mol, atoms)\u001b[0m\n\u001b[1;32m     80\u001b[0m \u001b[38;5;28;01mdef\u001b[39;00m \u001b[38;5;21mget_clique_mol\u001b[39m(mol, atoms):\n\u001b[0;32m---> 81\u001b[0m     smiles \u001b[38;5;241m=\u001b[39m \u001b[43mChem\u001b[49m\u001b[38;5;241;43m.\u001b[39;49m\u001b[43mMolFragmentToSmiles\u001b[49m\u001b[43m(\u001b[49m\u001b[43mmol\u001b[49m\u001b[43m,\u001b[49m\u001b[43m \u001b[49m\u001b[43matoms\u001b[49m\u001b[43m,\u001b[49m\u001b[43m \u001b[49m\u001b[43mkekuleSmiles\u001b[49m\u001b[38;5;241;43m=\u001b[39;49m\u001b[38;5;28;43;01mTrue\u001b[39;49;00m\u001b[43m)\u001b[49m\n\u001b[1;32m     82\u001b[0m     new_mol \u001b[38;5;241m=\u001b[39m Chem\u001b[38;5;241m.\u001b[39mMolFromSmiles(smiles, sanitize\u001b[38;5;241m=\u001b[39m\u001b[38;5;28;01mFalse\u001b[39;00m)\n",
      "\u001b[0;31mKekulizeException\u001b[0m: Can't kekulize mol.  Unkekulized atoms: 5",
      "\nDuring handling of the above exception, another exception occurred:\n",
      "\u001b[0;31mKekulizeException\u001b[0m                         Traceback (most recent call last)",
      "Cell \u001b[0;32mIn[16], line 7\u001b[0m\n\u001b[1;32m      5\u001b[0m \u001b[38;5;28;01mexcept\u001b[39;00m:\n\u001b[1;32m      6\u001b[0m     \u001b[38;5;28mprint\u001b[39m(smile)\n\u001b[0;32m----> 7\u001b[0m     mol \u001b[38;5;241m=\u001b[39m \u001b[43mfast_jtnn\u001b[49m\u001b[38;5;241;43m.\u001b[39;49m\u001b[43mMolTree\u001b[49m\u001b[43m(\u001b[49m\u001b[43msmile\u001b[49m\u001b[43m)\u001b[49m\n\u001b[1;32m      8\u001b[0m \u001b[38;5;28;01mfor\u001b[39;00m c \u001b[38;5;129;01min\u001b[39;00m mol\u001b[38;5;241m.\u001b[39mnodes:         \n\u001b[1;32m      9\u001b[0m     cset\u001b[38;5;241m.\u001b[39madd(c\u001b[38;5;241m.\u001b[39msmiles)\n",
      "File \u001b[0;32m/data/jacob/anaconda3/envs/ir/lib/python3.8/site-packages/dig/ggraph/method/JTVAE/fast_jtnn/mol_tree.py:89\u001b[0m, in \u001b[0;36mMolTree.__init__\u001b[0;34m(self, smiles, bayesian_optimization)\u001b[0m\n\u001b[1;32m     87\u001b[0m root \u001b[38;5;241m=\u001b[39m \u001b[38;5;241m0\u001b[39m\n\u001b[1;32m     88\u001b[0m \u001b[38;5;28;01mfor\u001b[39;00m i, c \u001b[38;5;129;01min\u001b[39;00m \u001b[38;5;28menumerate\u001b[39m(cliques):\n\u001b[0;32m---> 89\u001b[0m     cmol \u001b[38;5;241m=\u001b[39m \u001b[43mget_clique_mol\u001b[49m\u001b[43m(\u001b[49m\u001b[38;5;28;43mself\u001b[39;49m\u001b[38;5;241;43m.\u001b[39;49m\u001b[43mmol\u001b[49m\u001b[43m,\u001b[49m\u001b[43m \u001b[49m\u001b[43mc\u001b[49m\u001b[43m)\u001b[49m\n\u001b[1;32m     90\u001b[0m     node \u001b[38;5;241m=\u001b[39m MolTreeNode(get_smiles(cmol), c)\n\u001b[1;32m     91\u001b[0m     \u001b[38;5;28mself\u001b[39m\u001b[38;5;241m.\u001b[39mnodes\u001b[38;5;241m.\u001b[39mappend(node)\n",
      "File \u001b[0;32m/data/jacob/anaconda3/envs/ir/lib/python3.8/site-packages/dig/ggraph/method/JTVAE/fast_jtnn/chemutils.py:81\u001b[0m, in \u001b[0;36mget_clique_mol\u001b[0;34m(mol, atoms)\u001b[0m\n\u001b[1;32m     80\u001b[0m \u001b[38;5;28;01mdef\u001b[39;00m \u001b[38;5;21mget_clique_mol\u001b[39m(mol, atoms):\n\u001b[0;32m---> 81\u001b[0m     smiles \u001b[38;5;241m=\u001b[39m \u001b[43mChem\u001b[49m\u001b[38;5;241;43m.\u001b[39;49m\u001b[43mMolFragmentToSmiles\u001b[49m\u001b[43m(\u001b[49m\u001b[43mmol\u001b[49m\u001b[43m,\u001b[49m\u001b[43m \u001b[49m\u001b[43matoms\u001b[49m\u001b[43m,\u001b[49m\u001b[43m \u001b[49m\u001b[43mkekuleSmiles\u001b[49m\u001b[38;5;241;43m=\u001b[39;49m\u001b[38;5;28;43;01mTrue\u001b[39;49;00m\u001b[43m)\u001b[49m\n\u001b[1;32m     82\u001b[0m     new_mol \u001b[38;5;241m=\u001b[39m Chem\u001b[38;5;241m.\u001b[39mMolFromSmiles(smiles, sanitize\u001b[38;5;241m=\u001b[39m\u001b[38;5;28;01mFalse\u001b[39;00m)\n\u001b[1;32m     83\u001b[0m     new_mol \u001b[38;5;241m=\u001b[39m copy_edit_mol(new_mol)\u001b[38;5;241m.\u001b[39mGetMol()\n",
      "\u001b[0;31mKekulizeException\u001b[0m: Can't kekulize mol.  Unkekulized atoms: 5"
     ]
    }
   ],
   "source": [
    "cset = set()\n",
    "for smile in smiles:\n",
    "    try:\n",
    "        mol = fast_jtnn.MolTree(smile)\n",
    "    except:\n",
    "        print(smile)\n",
    "        mol = fast_jtnn.MolTree(smile)\n",
    "    for c in mol.nodes:         \n",
    "        cset.add(c.smiles)"
   ]
  },
  {
   "cell_type": "code",
   "execution_count": 7,
   "id": "94766f34",
   "metadata": {},
   "outputs": [],
   "source": [
    "smile=\"OCc1cn2c(n1)OC(Cl)=CC2\""
   ]
  },
  {
   "cell_type": "code",
   "execution_count": 8,
   "id": "ff9fc3bf",
   "metadata": {},
   "outputs": [
    {
     "name": "stdout",
     "output_type": "stream",
     "text": [
      "OCc1cn2c(n1)OC(Cl)=CC2\n"
     ]
    },
    {
     "data": {
      "image/png": "[encoded data removed]",
      "text/plain": [
       "<rdkit.Chem.rdchem.Mol at 0x7fb9b3a47b20>"
      ]
     },
     "execution_count": 8,
     "metadata": {},
     "output_type": "execute_result"
    }
   ],
   "source": [
    "from dig.ggraph.method.JTVAE.fast_jtnn.chemutils import *\n",
    "mol = get_mol(smile)\n",
    "print(smile)\n",
    "mol"
   ]
  },
  {
   "cell_type": "code",
   "execution_count": 9,
   "id": "9c0f5c78",
   "metadata": {},
   "outputs": [
    {
     "data": {
      "text/plain": [
       "'C1=COcnC1'"
      ]
     },
     "execution_count": 9,
     "metadata": {},
     "output_type": "execute_result"
    }
   ],
   "source": [
    "Chem.MolFragmentToSmiles(mol, [7, 8, 10, 11, 4, 5], kekuleSmiles=False)"
   ]
  },
  {
   "cell_type": "code",
   "execution_count": 10,
   "id": "b76e1871",
   "metadata": {},
   "outputs": [
    {
     "data": {
      "text/plain": [
       "'C1=COCNC1'"
      ]
     },
     "execution_count": 10,
     "metadata": {},
     "output_type": "execute_result"
    }
   ],
   "source": [
    "Chem.MolFragmentToSmiles(mol, [7, 8, 10, 11, 4, 5], kekuleSmiles=True)"
   ]
  },
  {
   "cell_type": "code",
   "execution_count": 18,
   "id": "077cc960",
   "metadata": {},
   "outputs": [
    {
     "ename": "KekulizeException",
     "evalue": "Can't kekulize mol.  Unkekulized atoms: 5",
     "output_type": "error",
     "traceback": [
      "\u001b[0;31m---------------------------------------------------------------------------\u001b[0m",
      "\u001b[0;31mKekulizeException\u001b[0m                         Traceback (most recent call last)",
      "Cell \u001b[0;32mIn[18], line 5\u001b[0m\n\u001b[1;32m      3\u001b[0m root \u001b[38;5;241m=\u001b[39m \u001b[38;5;241m0\u001b[39m\n\u001b[1;32m      4\u001b[0m \u001b[38;5;28;01mfor\u001b[39;00m i, c \u001b[38;5;129;01min\u001b[39;00m \u001b[38;5;28menumerate\u001b[39m(cliques):\n\u001b[0;32m----> 5\u001b[0m     cmol \u001b[38;5;241m=\u001b[39m \u001b[43mget_clique_mol\u001b[49m\u001b[43m(\u001b[49m\u001b[43mmol\u001b[49m\u001b[43m,\u001b[49m\u001b[43m \u001b[49m\u001b[43mc\u001b[49m\u001b[43m)\u001b[49m \n",
      "File \u001b[0;32m/data/jacob/anaconda3/envs/ir/lib/python3.8/site-packages/dig/ggraph/method/JTVAE/fast_jtnn/chemutils.py:81\u001b[0m, in \u001b[0;36mget_clique_mol\u001b[0;34m(mol, atoms)\u001b[0m\n\u001b[1;32m     80\u001b[0m \u001b[38;5;28;01mdef\u001b[39;00m \u001b[38;5;21mget_clique_mol\u001b[39m(mol, atoms):\n\u001b[0;32m---> 81\u001b[0m     smiles \u001b[38;5;241m=\u001b[39m \u001b[43mChem\u001b[49m\u001b[38;5;241;43m.\u001b[39;49m\u001b[43mMolFragmentToSmiles\u001b[49m\u001b[43m(\u001b[49m\u001b[43mmol\u001b[49m\u001b[43m,\u001b[49m\u001b[43m \u001b[49m\u001b[43matoms\u001b[49m\u001b[43m,\u001b[49m\u001b[43m \u001b[49m\u001b[43mkekuleSmiles\u001b[49m\u001b[38;5;241;43m=\u001b[39;49m\u001b[38;5;28;43;01mTrue\u001b[39;49;00m\u001b[43m)\u001b[49m\n\u001b[1;32m     82\u001b[0m     new_mol \u001b[38;5;241m=\u001b[39m Chem\u001b[38;5;241m.\u001b[39mMolFromSmiles(smiles, sanitize\u001b[38;5;241m=\u001b[39m\u001b[38;5;28;01mFalse\u001b[39;00m)\n\u001b[1;32m     83\u001b[0m     new_mol \u001b[38;5;241m=\u001b[39m copy_edit_mol(new_mol)\u001b[38;5;241m.\u001b[39mGetMol()\n",
      "\u001b[0;31mKekulizeException\u001b[0m: Can't kekulize mol.  Unkekulized atoms: 5"
     ]
    }
   ],
   "source": [
    "\n",
    "cliques, edges = tree_decomp(mol)\n",
    "nodes = []\n",
    "root = 0\n",
    "for i, c in enumerate(cliques):\n",
    "    cmol = get_clique_mol(mol, c) "
   ]
  },
  {
   "cell_type": "code",
   "execution_count": 19,
   "id": "c1973363",
   "metadata": {},
   "outputs": [
    {
     "data": {
      "text/plain": [
       "[7, 8, 10, 11, 4, 5]"
      ]
     },
     "execution_count": 19,
     "metadata": {},
     "output_type": "execute_result"
    }
   ],
   "source": [
    "c"
   ]
  },
  {
   "cell_type": "code",
   "execution_count": 20,
   "id": "5e4308c1",
   "metadata": {},
   "outputs": [
    {
     "ename": "KekulizeException",
     "evalue": "Can't kekulize mol.  Unkekulized atoms: 5",
     "output_type": "error",
     "traceback": [
      "\u001b[0;31m---------------------------------------------------------------------------\u001b[0m",
      "\u001b[0;31mKekulizeException\u001b[0m                         Traceback (most recent call last)",
      "Cell \u001b[0;32mIn[20], line 1\u001b[0m\n\u001b[0;32m----> 1\u001b[0m \u001b[43mChem\u001b[49m\u001b[38;5;241;43m.\u001b[39;49m\u001b[43mMolFragmentToSmiles\u001b[49m\u001b[43m(\u001b[49m\u001b[43mmol\u001b[49m\u001b[43m,\u001b[49m\u001b[43m \u001b[49m\u001b[43m[\u001b[49m\u001b[38;5;241;43m7\u001b[39;49m\u001b[43m,\u001b[49m\u001b[43m \u001b[49m\u001b[38;5;241;43m8\u001b[39;49m\u001b[43m,\u001b[49m\u001b[43m \u001b[49m\u001b[38;5;241;43m10\u001b[39;49m\u001b[43m,\u001b[49m\u001b[43m \u001b[49m\u001b[38;5;241;43m11\u001b[39;49m\u001b[43m,\u001b[49m\u001b[43m \u001b[49m\u001b[38;5;241;43m4\u001b[39;49m\u001b[43m,\u001b[49m\u001b[43m \u001b[49m\u001b[38;5;241;43m5\u001b[39;49m\u001b[43m]\u001b[49m\u001b[43m,\u001b[49m\u001b[43m \u001b[49m\u001b[43mkekuleSmiles\u001b[49m\u001b[38;5;241;43m=\u001b[39;49m\u001b[38;5;28;43;01mTrue\u001b[39;49;00m\u001b[43m)\u001b[49m\n",
      "\u001b[0;31mKekulizeException\u001b[0m: Can't kekulize mol.  Unkekulized atoms: 5"
     ]
    }
   ],
   "source": []
  },
  {
   "cell_type": "code",
   "execution_count": 28,
   "id": "82cc9732",
   "metadata": {},
   "outputs": [
    {
     "data": {
      "image/png": "[encoded data removed]",
      "text/plain": [
       "<rdkit.Chem.rdchem.Mol at 0x7f74dd8ccac0>"
      ]
     },
     "execution_count": 28,
     "metadata": {},
     "output_type": "execute_result"
    }
   ],
   "source": [
    "mol"
   ]
  },
  {
   "cell_type": "code",
   "execution_count": 8,
   "id": "bfd4769a-5512-4ee6-acf2-156e739a12f9",
   "metadata": {},
   "outputs": [
    {
     "ename": "KekulizeException",
     "evalue": "Can't kekulize mol.  Unkekulized atoms: 5",
     "output_type": "error",
     "traceback": [
      "\u001b[0;31m---------------------------------------------------------------------------\u001b[0m",
      "\u001b[0;31mKekulizeException\u001b[0m                         Traceback (most recent call last)",
      "Cell \u001b[0;32mIn[8], line 2\u001b[0m\n\u001b[1;32m      1\u001b[0m \u001b[38;5;66;03m# Define model\u001b[39;00m\n\u001b[0;32m----> 2\u001b[0m jtvae \u001b[38;5;241m=\u001b[39m \u001b[43mJTVAE\u001b[49m\u001b[43m(\u001b[49m\u001b[43msmiles\u001b[49m\u001b[43m)\u001b[49m\n\u001b[1;32m      3\u001b[0m config \u001b[38;5;241m=\u001b[39m {\u001b[38;5;124m\"\u001b[39m\u001b[38;5;124mhidden_size\u001b[39m\u001b[38;5;124m\"\u001b[39m: \u001b[38;5;241m420\u001b[39m, \u001b[38;5;124m\"\u001b[39m\u001b[38;5;124mlatent_size\u001b[39m\u001b[38;5;124m\"\u001b[39m: \u001b[38;5;241m56\u001b[39m, \u001b[38;5;124m\"\u001b[39m\u001b[38;5;124mdepthT\u001b[39m\u001b[38;5;124m\"\u001b[39m: \u001b[38;5;241m20\u001b[39m, \u001b[38;5;124m\"\u001b[39m\u001b[38;5;124mdepthG\u001b[39m\u001b[38;5;124m\"\u001b[39m: \u001b[38;5;241m3\u001b[39m}\n\u001b[1;32m      4\u001b[0m jtvae\u001b[38;5;241m.\u001b[39mget_model(\u001b[38;5;124m'\u001b[39m\u001b[38;5;124mrand_gen\u001b[39m\u001b[38;5;124m'\u001b[39m, config)\n",
      "File \u001b[0;32m/data/jacob/anaconda3/envs/ir/lib/python3.8/site-packages/dig/ggraph/method/JTVAE/jtvae.py:34\u001b[0m, in \u001b[0;36mJTVAE.__init__\u001b[0;34m(self, list_smiles, build_vocab, device)\u001b[0m\n\u001b[1;32m     32\u001b[0m \u001b[38;5;28msuper\u001b[39m()\u001b[38;5;241m.\u001b[39m\u001b[38;5;21m__init__\u001b[39m()\n\u001b[1;32m     33\u001b[0m \u001b[38;5;28;01mif\u001b[39;00m build_vocab:\n\u001b[0;32m---> 34\u001b[0m     \u001b[38;5;28mself\u001b[39m\u001b[38;5;241m.\u001b[39mvocab \u001b[38;5;241m=\u001b[39m \u001b[38;5;28;43mself\u001b[39;49m\u001b[38;5;241;43m.\u001b[39;49m\u001b[43mbuild_vocabulary\u001b[49m\u001b[43m(\u001b[49m\u001b[43mlist_smiles\u001b[49m\u001b[43m)\u001b[49m\n\u001b[1;32m     35\u001b[0m \u001b[38;5;28mself\u001b[39m\u001b[38;5;241m.\u001b[39mmodel \u001b[38;5;241m=\u001b[39m \u001b[38;5;28;01mNone\u001b[39;00m\n",
      "File \u001b[0;32m/data/jacob/anaconda3/envs/ir/lib/python3.8/site-packages/dig/ggraph/method/JTVAE/jtvae.py:61\u001b[0m, in \u001b[0;36mJTVAE.build_vocabulary\u001b[0;34m(self, list_smiles)\u001b[0m\n\u001b[1;32m     59\u001b[0m cset \u001b[38;5;241m=\u001b[39m \u001b[38;5;28mset\u001b[39m()\n\u001b[1;32m     60\u001b[0m \u001b[38;5;28;01mfor\u001b[39;00m smiles \u001b[38;5;129;01min\u001b[39;00m list_smiles:\n\u001b[0;32m---> 61\u001b[0m     mol \u001b[38;5;241m=\u001b[39m \u001b[43mfast_jtnn\u001b[49m\u001b[38;5;241;43m.\u001b[39;49m\u001b[43mMolTree\u001b[49m\u001b[43m(\u001b[49m\u001b[43msmiles\u001b[49m\u001b[43m)\u001b[49m\n\u001b[1;32m     62\u001b[0m     \u001b[38;5;28;01mfor\u001b[39;00m c \u001b[38;5;129;01min\u001b[39;00m mol\u001b[38;5;241m.\u001b[39mnodes:\n\u001b[1;32m     63\u001b[0m         cset\u001b[38;5;241m.\u001b[39madd(c\u001b[38;5;241m.\u001b[39msmiles)\n",
      "File \u001b[0;32m/data/jacob/anaconda3/envs/ir/lib/python3.8/site-packages/dig/ggraph/method/JTVAE/fast_jtnn/mol_tree.py:89\u001b[0m, in \u001b[0;36mMolTree.__init__\u001b[0;34m(self, smiles, bayesian_optimization)\u001b[0m\n\u001b[1;32m     87\u001b[0m root \u001b[38;5;241m=\u001b[39m \u001b[38;5;241m0\u001b[39m\n\u001b[1;32m     88\u001b[0m \u001b[38;5;28;01mfor\u001b[39;00m i, c \u001b[38;5;129;01min\u001b[39;00m \u001b[38;5;28menumerate\u001b[39m(cliques):\n\u001b[0;32m---> 89\u001b[0m     cmol \u001b[38;5;241m=\u001b[39m \u001b[43mget_clique_mol\u001b[49m\u001b[43m(\u001b[49m\u001b[38;5;28;43mself\u001b[39;49m\u001b[38;5;241;43m.\u001b[39;49m\u001b[43mmol\u001b[49m\u001b[43m,\u001b[49m\u001b[43m \u001b[49m\u001b[43mc\u001b[49m\u001b[43m)\u001b[49m\n\u001b[1;32m     90\u001b[0m     node \u001b[38;5;241m=\u001b[39m MolTreeNode(get_smiles(cmol), c)\n\u001b[1;32m     91\u001b[0m     \u001b[38;5;28mself\u001b[39m\u001b[38;5;241m.\u001b[39mnodes\u001b[38;5;241m.\u001b[39mappend(node)\n",
      "File \u001b[0;32m/data/jacob/anaconda3/envs/ir/lib/python3.8/site-packages/dig/ggraph/method/JTVAE/fast_jtnn/chemutils.py:81\u001b[0m, in \u001b[0;36mget_clique_mol\u001b[0;34m(mol, atoms)\u001b[0m\n\u001b[1;32m     80\u001b[0m \u001b[38;5;28;01mdef\u001b[39;00m \u001b[38;5;21mget_clique_mol\u001b[39m(mol, atoms):\n\u001b[0;32m---> 81\u001b[0m     smiles \u001b[38;5;241m=\u001b[39m \u001b[43mChem\u001b[49m\u001b[38;5;241;43m.\u001b[39;49m\u001b[43mMolFragmentToSmiles\u001b[49m\u001b[43m(\u001b[49m\u001b[43mmol\u001b[49m\u001b[43m,\u001b[49m\u001b[43m \u001b[49m\u001b[43matoms\u001b[49m\u001b[43m,\u001b[49m\u001b[43m \u001b[49m\u001b[43mkekuleSmiles\u001b[49m\u001b[38;5;241;43m=\u001b[39;49m\u001b[38;5;28;43;01mTrue\u001b[39;49;00m\u001b[43m)\u001b[49m\n\u001b[1;32m     82\u001b[0m     new_mol \u001b[38;5;241m=\u001b[39m Chem\u001b[38;5;241m.\u001b[39mMolFromSmiles(smiles, sanitize\u001b[38;5;241m=\u001b[39m\u001b[38;5;28;01mFalse\u001b[39;00m)\n\u001b[1;32m     83\u001b[0m     new_mol \u001b[38;5;241m=\u001b[39m copy_edit_mol(new_mol)\u001b[38;5;241m.\u001b[39mGetMol()\n",
      "\u001b[0;31mKekulizeException\u001b[0m: Can't kekulize mol.  Unkekulized atoms: 5"
     ]
    }
   ],
   "source": [
    "# Define model\n",
    "jtvae = JTVAE(smiles)\n",
    "config = {\"hidden_size\": 420, \"latent_size\": 56, \"depthT\": 20, \"depthG\": 3}\n",
    "jtvae.get_model('rand_gen', config)"
   ]
  },
  {
   "cell_type": "code",
   "execution_count": 28,
   "id": "96b39234-7395-4462-ac48-eef302ba0d8d",
   "metadata": {},
   "outputs": [
    {
     "name": "stderr",
     "output_type": "stream",
     "text": [
      "100%|██████████| 800/800 [04:36<00:00,  2.90it/s] \n"
     ]
    }
   ],
   "source": [
    "preprocessed = jtvae.preprocess(smiles)"
   ]
  },
  {
   "cell_type": "code",
   "execution_count": 45,
   "id": "6264b23f-e16b-41c7-85eb-96fd0cda9b96",
   "metadata": {},
   "outputs": [
    {
     "name": "stdout",
     "output_type": "stream",
     "text": [
      "Model #Params: 4260K\n"
     ]
    }
   ],
   "source": [
    "loader = MolTreeFolder(preprocessed, jtvae.vocab, 32, num_workers=4)\n",
    "load_epoch = 0\n",
    "lr = 1e-3\n",
    "anneal_rate = 0.9\n",
    "clip_norm = 50.0\n",
    "num_epochs = 1\n",
    "total_step = 0  # TODO args.load_epoch\n",
    "beta = 0.0  # TODO args.beta\n",
    "max_beta = 1.0\n",
    "save_iter = 5000\n",
    "step_beta = 0.002\n",
    "anneal_iter = 40000\n",
    "print_iter = 50\n",
    "kl_anneal_iter = 2000\n",
    "jtvae.train_rand_gen(loader, load_epoch, lr, anneal_rate, clip_norm, num_epochs, beta, max_beta, step_beta, anneal_iter, kl_anneal_iter, print_iter, save_iter)"
   ]
  },
  {
   "cell_type": "code",
   "execution_count": 46,
   "id": "d1f4d622-6cc7-473a-85dc-2a86185278a3",
   "metadata": {},
   "outputs": [],
   "source": [
    "samples = list(map(Chem.MolFromSmiles, jtvae.run_rand_gen(30)))"
   ]
  },
  {
   "cell_type": "code",
   "execution_count": 47,
   "id": "710f8ff8-9772-4a04-a649-163db82a3903",
   "metadata": {},
   "outputs": [
    {
     "name": "stdout",
     "output_type": "stream",
     "text": [
      "Valid Ratio: 30/30 = 100.00%\n",
      "Unique Ratio: 17/30 = 56.67%\n",
      "Novel Ratio: 30/30 = 100.00%\n",
      "{'valid_ratio': 100.0, 'unique_ratio': 56.666666666666664, 'novel_ratio': 100.0}\n"
     ]
    }
   ],
   "source": [
    "res_dict = {'mols': samples, 'train_smiles': smiles}\n",
    "evaluator = RandGenEvaluator()\n",
    "results = evaluator.eval(res_dict)\n",
    "print(results)"
   ]
  },
  {
   "cell_type": "code",
   "execution_count": null,
   "id": "f22a61e4-e5aa-444c-b2b8-d5f066f7a047",
   "metadata": {},
   "outputs": [],
   "source": []
  }
 ],
 "metadata": {
  "kernelspec": {
   "display_name": "Python 3",
   "language": "python",
   "name": "python3"
  },
  "language_info": {
   "codemirror_mode": {
    "name": "ipython",
    "version": 3
   },
   "file_extension": ".py",
   "mimetype": "text/x-python",
   "name": "python",
   "nbconvert_exporter": "python",
   "pygments_lexer": "ipython3",
   "version": "3.8.19"
  },
  "vscode": {
   "interpreter": {
    "hash": "31f2aee4e71d21fbe5cf8b01ff0e069b9275f58929596ceb00d14d90e3e16cd6"
   }
  }
 },
 "nbformat": 4,
 "nbformat_minor": 5
}
